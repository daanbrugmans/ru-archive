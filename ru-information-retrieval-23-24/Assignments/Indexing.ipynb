{
 "cells": [
  {
   "cell_type": "markdown",
   "metadata": {
    "id": "HcuEHtGFoOqt"
   },
   "source": [
    "# Indexing Excercise \n",
    "\n",
    "This exercise has two parts: \n",
    "\n",
    "- In part 1, we are going to index the [MS MARCO](http://www.msmarco.org/) passage collection Pyserini toolkit and explore some features of the index. For this part, you only need to run code and understand it. You will be using the index and code snippets in the next assignment.\n",
    "\n",
    "- In part 2, we are going to write a code for generating an inverted index and index part of MS MARCO collection. For this part, you need to first run the first part (1.1 and 1.2) to build the environment and prepare the data.\n",
    "\n",
    "\n"
   ]
  },
  {
   "cell_type": "markdown",
   "metadata": {
    "id": "egQ3UlHWpj0K"
   },
   "source": [
    "## PART 1: Generate the index via Pyserini\n",
    "\n",
    "We use [Anserini](https://github.com/castorini/anserini]) toolkit and its python interface [Pyserini](https://github.com/castorini/pyserini)  to run our experiments. \n",
    "\n",
    "***This part is created based on Anserini/Pyserini tutorials. You can learn more by checking their repositories and tutorials.* "
   ]
  },
  {
   "cell_type": "markdown",
   "metadata": {},
   "source": [
    "### 1.1 Setup the environment\n",
    "\n",
    "Install Pyserini:"
   ]
  },
  {
   "cell_type": "code",
   "execution_count": null,
   "metadata": {},
   "outputs": [],
   "source": [
    "# !pip install pyserini\n",
    "# NOTE: I commented the pip install statement out\n",
    "    # because I run the pip installs manually in the terminal\n",
    "# NOTE: I altered some paths for saving and loading indexes and data\n",
    "    # so that it fits my folder structure.\n",
    "    # Functionality should be the exact same."
   ]
  },
  {
   "cell_type": "markdown",
   "metadata": {
    "id": "TuqRujlSfnTS"
   },
   "source": [
    "Clone the Anserini repository from GitHub:"
   ]
  },
  {
   "cell_type": "code",
   "execution_count": 1,
   "metadata": {},
   "outputs": [
    {
     "name": "stdout",
     "output_type": "stream",
     "text": [
      "fatal: destination path 'anserini' already exists and is not an empty directory.\n",
      "HEAD is now at ad5ba1c7 Release notes for v0.9.2 (#1197)\n"
     ]
    }
   ],
   "source": [
    "!git clone https://github.com/castorini/anserini.git\n",
    "!cd anserini && git checkout ad5ba1c76196436f8a0e28efdb69960d4873efe3"
   ]
  },
  {
   "cell_type": "markdown",
   "metadata": {
    "id": "DcU5a-ETrqnT"
   },
   "source": [
    "### 1.2 Get the collection and prepare the files\n",
    "MS MARCO (MicroSoft MAchine Reading COmprehension) is a large-scale dataset that defines many tasks from question answering to ranking. Here we focus on the collection designed for passage re-ranking."
   ]
  },
  {
   "cell_type": "code",
   "execution_count": null,
   "metadata": {},
   "outputs": [],
   "source": [
    "!wget https://msmarco.blob.core.windows.net/msmarcoranking/collection.tar.gz -P Data/"
   ]
  },
  {
   "cell_type": "code",
   "execution_count": 2,
   "metadata": {},
   "outputs": [
    {
     "name": "stdout",
     "output_type": "stream",
     "text": [
      "CollectionJsonl  collection.tar.gz  indexes\n",
      "collection.tsv\n"
     ]
    }
   ],
   "source": [
    "!ls Data/ \n",
    "!tar xvfz Data/collection.tar.gz -C Data/"
   ]
  },
  {
   "cell_type": "markdown",
   "metadata": {
    "id": "TtK9rHMOwjYx"
   },
   "source": [
    "The original MS MARCO collection is a tab-separated values (TSV) file. We need to convert the collection into the jsonl format that can be processed by Anserini. jsonl files contain JSON object per line.\n",
    "\n",
    "This command generates 9 jsonl files in your data/msmarco_passage/collection_jsonl directory, each with 1M lines (except for the last one, which should have 841,823 lines)."
   ]
  },
  {
   "cell_type": "code",
   "execution_count": 3,
   "metadata": {},
   "outputs": [
    {
     "name": "stdout",
     "output_type": "stream",
     "text": [
      "Converting collection...\n",
      "Converted 0 docs in 1 files\n",
      "Converted 100000 docs in 1 files\n",
      "Converted 200000 docs in 1 files\n",
      "Converted 300000 docs in 1 files\n",
      "Converted 400000 docs in 1 files\n",
      "Converted 500000 docs in 1 files\n",
      "Converted 600000 docs in 1 files\n",
      "Converted 700000 docs in 1 files\n",
      "Converted 800000 docs in 1 files\n",
      "Converted 900000 docs in 1 files\n",
      "Converted 1000000 docs in 2 files\n",
      "Converted 1100000 docs in 2 files\n",
      "Converted 1200000 docs in 2 files\n",
      "Converted 1300000 docs in 2 files\n",
      "Converted 1400000 docs in 2 files\n",
      "Converted 1500000 docs in 2 files\n",
      "Converted 1600000 docs in 2 files\n",
      "Converted 1700000 docs in 2 files\n",
      "Converted 1800000 docs in 2 files\n",
      "Converted 1900000 docs in 2 files\n",
      "Converted 2000000 docs in 3 files\n",
      "Converted 2100000 docs in 3 files\n",
      "Converted 2200000 docs in 3 files\n",
      "Converted 2300000 docs in 3 files\n",
      "Converted 2400000 docs in 3 files\n",
      "Converted 2500000 docs in 3 files\n",
      "Converted 2600000 docs in 3 files\n",
      "Converted 2700000 docs in 3 files\n",
      "Converted 2800000 docs in 3 files\n",
      "Converted 2900000 docs in 3 files\n",
      "Converted 3000000 docs in 4 files\n",
      "Converted 3100000 docs in 4 files\n",
      "Converted 3200000 docs in 4 files\n",
      "Converted 3300000 docs in 4 files\n",
      "Converted 3400000 docs in 4 files\n",
      "Converted 3500000 docs in 4 files\n",
      "Converted 3600000 docs in 4 files\n",
      "Converted 3700000 docs in 4 files\n",
      "Converted 3800000 docs in 4 files\n",
      "Converted 3900000 docs in 4 files\n",
      "Converted 4000000 docs in 5 files\n",
      "Converted 4100000 docs in 5 files\n",
      "Converted 4200000 docs in 5 files\n",
      "Converted 4300000 docs in 5 files\n",
      "Converted 4400000 docs in 5 files\n",
      "Converted 4500000 docs in 5 files\n",
      "Converted 4600000 docs in 5 files\n",
      "Converted 4700000 docs in 5 files\n",
      "Converted 4800000 docs in 5 files\n",
      "Converted 4900000 docs in 5 files\n",
      "Converted 5000000 docs in 6 files\n",
      "Converted 5100000 docs in 6 files\n",
      "Converted 5200000 docs in 6 files\n",
      "Converted 5300000 docs in 6 files\n",
      "Converted 5400000 docs in 6 files\n",
      "Converted 5500000 docs in 6 files\n",
      "Converted 5600000 docs in 6 files\n",
      "Converted 5700000 docs in 6 files\n",
      "Converted 5800000 docs in 6 files\n",
      "Converted 5900000 docs in 6 files\n",
      "Converted 6000000 docs in 7 files\n",
      "Converted 6100000 docs in 7 files\n",
      "Converted 6200000 docs in 7 files\n",
      "Converted 6300000 docs in 7 files\n",
      "Converted 6400000 docs in 7 files\n",
      "Converted 6500000 docs in 7 files\n",
      "Converted 6600000 docs in 7 files\n",
      "Converted 6700000 docs in 7 files\n",
      "Converted 6800000 docs in 7 files\n",
      "Converted 6900000 docs in 7 files\n",
      "Converted 7000000 docs in 8 files\n",
      "Converted 7100000 docs in 8 files\n",
      "Converted 7200000 docs in 8 files\n",
      "Converted 7300000 docs in 8 files\n",
      "Converted 7400000 docs in 8 files\n",
      "Converted 7500000 docs in 8 files\n",
      "Converted 7600000 docs in 8 files\n",
      "Converted 7700000 docs in 8 files\n",
      "Converted 7800000 docs in 8 files\n",
      "Converted 7900000 docs in 8 files\n",
      "Converted 8000000 docs in 9 files\n",
      "Converted 8100000 docs in 9 files\n",
      "Converted 8200000 docs in 9 files\n",
      "Converted 8300000 docs in 9 files\n",
      "Converted 8400000 docs in 9 files\n",
      "Converted 8500000 docs in 9 files\n",
      "Converted 8600000 docs in 9 files\n",
      "Converted 8700000 docs in 9 files\n",
      "Converted 8800000 docs in 9 files\n",
      "Done!\n"
     ]
    }
   ],
   "source": [
    "!cd anserini && python ./src/main/python/msmarco/convert_collection_to_jsonl.py \\\n",
    " --collection_path ../Data/collection.tsv --output_folder ../Data/CollectionJsonl"
   ]
  },
  {
   "cell_type": "markdown",
   "metadata": {
    "id": "ZDXFZHf_5lR-"
   },
   "source": [
    "**Check the data!**\n",
    "\n",
    "jsonl files are JSON files with keys id and contents:"
   ]
  },
  {
   "cell_type": "code",
   "execution_count": 4,
   "metadata": {},
   "outputs": [
    {
     "name": "stdout",
     "output_type": "stream",
     "text": [
      "   1000000 Data/CollectionJsonl/docs00.json\n",
      "   1000000 Data/CollectionJsonl/docs01.json\n",
      "   1000000 Data/CollectionJsonl/docs02.json\n",
      "   1000000 Data/CollectionJsonl/docs03.json\n",
      "   1000000 Data/CollectionJsonl/docs04.json\n",
      "   1000000 Data/CollectionJsonl/docs05.json\n",
      "   1000000 Data/CollectionJsonl/docs06.json\n",
      "   1000000 Data/CollectionJsonl/docs07.json\n",
      "    841823 Data/CollectionJsonl/docs08.json\n",
      "         2 Data/CollectionJsonl/text_index.txt\n",
      "    698784 Data/CollectionJsonl/tiny_index.txt\n",
      "   1000000 Data/CollectionJsonl/docs00.json\n",
      "   1000000 Data/CollectionJsonl/docs01.json\n",
      "   1000000 Data/CollectionJsonl/docs02.json\n",
      "   1000000 Data/CollectionJsonl/docs03.json\n",
      "   1000000 Data/CollectionJsonl/docs04.json\n",
      "   1000000 Data/CollectionJsonl/docs05.json\n",
      "   1000000 Data/CollectionJsonl/docs06.json\n",
      "   1000000 Data/CollectionJsonl/docs07.json\n",
      "    841823 Data/CollectionJsonl/docs08.json\n",
      "         2 Data/CollectionJsonl/text_index.txt\n",
      "    698784 Data/CollectionJsonl/tiny_index.txt\n",
      "  19081218 total\n"
     ]
    }
   ],
   "source": [
    "!wc -l Data/CollectionJsonl/* -l Data/CollectionJsonl/*"
   ]
  },
  {
   "cell_type": "code",
   "execution_count": 5,
   "metadata": {},
   "outputs": [
    {
     "name": "stdout",
     "output_type": "stream",
     "text": [
      "{\"id\": \"0\", \"contents\": \"The presence of communication amid scientific minds was equally important to the success of the Manhattan Project as scientific intellect was. The only cloud hanging over the impressive achievement of the atomic researchers and engineers is what their success truly meant; hundreds of thousands of innocent lives obliterated.\"}\n",
      "{\"id\": \"1\", \"contents\": \"The Manhattan Project and its atomic bomb helped bring an end to World War II. Its legacy of peaceful uses of atomic energy continues to have an impact on history and science.\"}\n",
      "{\"id\": \"2\", \"contents\": \"Essay on The Manhattan Project - The Manhattan Project The Manhattan Project was to see if making an atomic bomb possible. The success of this project would forever change the world forever making it known that something this powerful can be manmade.\"}\n",
      "{\"id\": \"3\", \"contents\": \"The Manhattan Project was the name for a project conducted during World War II, to develop the first atomic bomb. It refers specifically to the period of the project from 194 \\u00e2\\u0080\\u00a6 2-1946 under the control of the U.S. Army Corps of Engineers, under the administration of General Leslie R. Groves.\"}\n",
      "{\"id\": \"4\", \"contents\": \"versions of each volume as well as complementary websites. The first website\\u00e2\\u0080\\u0093The Manhattan Project: An Interactive History\\u00e2\\u0080\\u0093is available on the Office of History and Heritage Resources website, http://www.cfo. doe.gov/me70/history. The Office of History and Heritage Resources and the National Nuclear Security\"}\n"
     ]
    }
   ],
   "source": [
    "!head -5 Data/CollectionJsonl/docs00.json"
   ]
  },
  {
   "cell_type": "markdown",
   "metadata": {
    "id": "FAu65qTQ6KNz"
   },
   "source": [
    "Remove the original files to make room for the index. \n",
    "Check the contents of `data/msmarco_passage` before and after."
   ]
  },
  {
   "cell_type": "code",
   "execution_count": 6,
   "metadata": {},
   "outputs": [
    {
     "name": "stdout",
     "output_type": "stream",
     "text": [
      "CollectionJsonl  collection.tar.gz  collection.tsv  indexes\n",
      "CollectionJsonl  collection.tar.gz  indexes\n"
     ]
    }
   ],
   "source": [
    "!ls Data\n",
    "!rm Data/*.tsv\n",
    "!ls Data\n",
    "!rm -rf sample_data"
   ]
  },
  {
   "cell_type": "markdown",
   "metadata": {
    "id": "Uf4Kxgpq6vna"
   },
   "source": [
    "### 1.3 Generate the index using Pyserini\n",
    "\n",
    "\n",
    "Here are some common indexing options with Pyserini (for more options, check Pyserini documentation):\n",
    "\n",
    "```\n",
    "* input: Path to collection\n",
    "* threads: Number of threads to run\n",
    "* collection: Type of Anserini Collection, e.g., LuceneDocumentGenerator, TweetGenerator (subclass of LuceneDocumentGenerator for TREC Microblog)\n",
    "* index: Path to index output\n",
    "* storePositions: Boolean flag to store positions\n",
    "* storeDocvectors: Boolean flag to store document vectors\n",
    "* storeRawDocs: Boolean flag to store raw document text\n",
    "* keepStopwords: Boolean flag to keep stopwords (False by default)\n",
    "* stemmer: Stemmer to use (Porter by default)\n",
    "```\n",
    "\n",
    "We now have everything in place to index the collection. **The indexing speed may vary, the process may take about 10 minutes (or more) in Google Colab.**\n",
    "\n",
    "\n"
   ]
  },
  {
   "cell_type": "code",
   "execution_count": 7,
   "metadata": {},
   "outputs": [
    {
     "name": "stdout",
     "output_type": "stream",
     "text": [
      "pyserini.index is deprecated, please use pyserini.index.lucene.\n",
      "WARNING: sun.reflect.Reflection.getCallerClass is not supported. This will impact performance.\n",
      "2023-09-20 17:07:41,153 INFO  [main] index.IndexCollection (IndexCollection.java:380) - Setting log level to INFO\n",
      "2023-09-20 17:07:41,157 INFO  [main] index.IndexCollection (IndexCollection.java:383) - Starting indexer...\n",
      "2023-09-20 17:07:41,157 INFO  [main] index.IndexCollection (IndexCollection.java:384) - ============ Loading Parameters ============\n",
      "2023-09-20 17:07:41,157 INFO  [main] index.IndexCollection (IndexCollection.java:385) - DocumentCollection path: Data/CollectionJsonl\n",
      "2023-09-20 17:07:41,158 INFO  [main] index.IndexCollection (IndexCollection.java:386) - CollectionClass: JsonCollection\n",
      "2023-09-20 17:07:41,158 INFO  [main] index.IndexCollection (IndexCollection.java:387) - Generator: DefaultLuceneDocumentGenerator\n",
      "2023-09-20 17:07:41,158 INFO  [main] index.IndexCollection (IndexCollection.java:388) - Threads: 9\n",
      "2023-09-20 17:07:41,159 INFO  [main] index.IndexCollection (IndexCollection.java:389) - Language: en\n",
      "2023-09-20 17:07:41,159 INFO  [main] index.IndexCollection (IndexCollection.java:390) - Stemmer: porter\n",
      "2023-09-20 17:07:41,159 INFO  [main] index.IndexCollection (IndexCollection.java:391) - Keep stopwords? false\n",
      "2023-09-20 17:07:41,160 INFO  [main] index.IndexCollection (IndexCollection.java:392) - Stopwords: null\n",
      "2023-09-20 17:07:41,160 INFO  [main] index.IndexCollection (IndexCollection.java:393) - Store positions? true\n",
      "2023-09-20 17:07:41,160 INFO  [main] index.IndexCollection (IndexCollection.java:394) - Store docvectors? true\n",
      "2023-09-20 17:07:41,161 INFO  [main] index.IndexCollection (IndexCollection.java:395) - Store document \"contents\" field? false\n",
      "2023-09-20 17:07:41,161 INFO  [main] index.IndexCollection (IndexCollection.java:396) - Store document \"raw\" field? true\n",
      "2023-09-20 17:07:41,161 INFO  [main] index.IndexCollection (IndexCollection.java:397) - Additional fields to index: []\n",
      "2023-09-20 17:07:41,162 INFO  [main] index.IndexCollection (IndexCollection.java:398) - Optimize (merge segments)? false\n",
      "2023-09-20 17:07:41,162 INFO  [main] index.IndexCollection (IndexCollection.java:399) - Whitelist: null\n",
      "2023-09-20 17:07:41,163 INFO  [main] index.IndexCollection (IndexCollection.java:400) - Pretokenized?: false\n",
      "2023-09-20 17:07:41,163 INFO  [main] index.IndexCollection (IndexCollection.java:401) - Index path: Data/indexes/lucene-index-msmarco-passage\n",
      "2023-09-20 17:07:41,166 INFO  [main] index.IndexCollection (IndexCollection.java:481) - ============ Indexing Collection ============\n",
      "2023-09-20 17:07:41,184 INFO  [main] index.IndexCollection (IndexCollection.java:468) - Using DefaultEnglishAnalyzer\n",
      "2023-09-20 17:07:41,184 INFO  [main] index.IndexCollection (IndexCollection.java:469) - Stemmer: porter\n",
      "2023-09-20 17:07:41,185 INFO  [main] index.IndexCollection (IndexCollection.java:470) - Keep stopwords? false\n",
      "2023-09-20 17:07:41,185 INFO  [main] index.IndexCollection (IndexCollection.java:471) - Stopwords file: null\n",
      "2023-09-20 17:07:41,381 INFO  [main] index.IndexCollection (IndexCollection.java:510) - Thread pool with 9 threads initialized.\n",
      "2023-09-20 17:07:41,381 INFO  [main] index.IndexCollection (IndexCollection.java:512) - Initializing collection in Data/CollectionJsonl\n",
      "2023-09-20 17:07:41,384 INFO  [main] index.IndexCollection (IndexCollection.java:521) - 9 files found\n",
      "2023-09-20 17:07:41,385 INFO  [main] index.IndexCollection (IndexCollection.java:522) - Starting to index...\n",
      "2023-09-20 17:08:41,596 INFO  [main] index.IndexCollection (IndexCollection.java:536) - 0.00% of files completed, 2,970,000 documents indexed\n",
      "2023-09-20 17:09:41,604 INFO  [main] index.IndexCollection (IndexCollection.java:536) - 0.00% of files completed, 6,080,000 documents indexed\n",
      "2023-09-20 17:10:03,787 DEBUG [pool-2-thread-9] index.IndexCollection$LocalIndexerThread (IndexCollection.java:345) - CollectionJsonl/docs08.json: 841823 docs added.\n",
      "2023-09-20 17:10:35,870 DEBUG [pool-2-thread-5] index.IndexCollection$LocalIndexerThread (IndexCollection.java:345) - CollectionJsonl/docs07.json: 1000000 docs added.\n",
      "2023-09-20 17:10:41,615 INFO  [main] index.IndexCollection (IndexCollection.java:536) - 22.22% of files completed, 8,601,823 documents indexed\n",
      "2023-09-20 17:10:44,567 DEBUG [pool-2-thread-6] index.IndexCollection$LocalIndexerThread (IndexCollection.java:345) - CollectionJsonl/docs04.json: 1000000 docs added.\n",
      "2023-09-20 17:10:45,201 DEBUG [pool-2-thread-2] index.IndexCollection$LocalIndexerThread (IndexCollection.java:345) - CollectionJsonl/docs02.json: 1000000 docs added.\n",
      "2023-09-20 17:10:45,288 DEBUG [pool-2-thread-4] index.IndexCollection$LocalIndexerThread (IndexCollection.java:345) - CollectionJsonl/docs03.json: 1000000 docs added.\n",
      "2023-09-20 17:10:45,639 DEBUG [pool-2-thread-7] index.IndexCollection$LocalIndexerThread (IndexCollection.java:345) - CollectionJsonl/docs01.json: 1000000 docs added.\n",
      "2023-09-20 17:10:45,683 DEBUG [pool-2-thread-1] index.IndexCollection$LocalIndexerThread (IndexCollection.java:345) - CollectionJsonl/docs05.json: 1000000 docs added.\n",
      "2023-09-20 17:10:46,091 DEBUG [pool-2-thread-8] index.IndexCollection$LocalIndexerThread (IndexCollection.java:345) - CollectionJsonl/docs00.json: 1000000 docs added.\n",
      "2023-09-20 17:10:47,225 DEBUG [pool-2-thread-3] index.IndexCollection$LocalIndexerThread (IndexCollection.java:345) - CollectionJsonl/docs06.json: 1000000 docs added.\n",
      "2023-09-20 17:12:10,552 INFO  [main] index.IndexCollection (IndexCollection.java:578) - Indexing Complete! 8,841,823 documents indexed\n",
      "2023-09-20 17:12:10,553 INFO  [main] index.IndexCollection (IndexCollection.java:579) - ============ Final Counter Values ============\n",
      "2023-09-20 17:12:10,553 INFO  [main] index.IndexCollection (IndexCollection.java:580) - indexed:        8,841,823\n",
      "2023-09-20 17:12:10,553 INFO  [main] index.IndexCollection (IndexCollection.java:581) - unindexable:            0\n",
      "2023-09-20 17:12:10,553 INFO  [main] index.IndexCollection (IndexCollection.java:582) - empty:                  0\n",
      "2023-09-20 17:12:10,554 INFO  [main] index.IndexCollection (IndexCollection.java:583) - skipped:                0\n",
      "2023-09-20 17:12:10,554 INFO  [main] index.IndexCollection (IndexCollection.java:584) - errors:                 0\n",
      "2023-09-20 17:12:10,560 INFO  [main] index.IndexCollection (IndexCollection.java:587) - Total 8,841,823 documents indexed in 00:04:29\n"
     ]
    }
   ],
   "source": [
    "!python3 -m pyserini.index -collection JsonCollection -generator DefaultLuceneDocumentGenerator -threads 9 \\\n",
    "-input Data/CollectionJsonl -index Data/indexes/lucene-index-msmarco-passage -storePositions -storeDocvectors -storeRaw"
   ]
  },
  {
   "cell_type": "markdown",
   "metadata": {
    "id": "XWl9RgbZ7dSv"
   },
   "source": [
    "Check the size of the index at the specified destination:"
   ]
  },
  {
   "cell_type": "code",
   "execution_count": 8,
   "metadata": {
    "id": "0_Nigxvr8DIK",
    "scrolled": true
   },
   "outputs": [
    {
     "name": "stdout",
     "output_type": "stream",
     "text": [
      "lucene-index-msmarco-passage\n",
      "4.3G\tData/indexes/lucene-index-msmarco-passage\n"
     ]
    }
   ],
   "source": [
    "!ls Data/indexes\n",
    "!du -h Data/indexes/lucene-index-msmarco-passage"
   ]
  },
  {
   "cell_type": "markdown",
   "metadata": {
    "id": "IZMAtCEE-f0q"
   },
   "source": [
    "### 1.4 Explore Pyserini index\n",
    "\n",
    "We can now explore the index using the The IndexReader class of Pyserini. \n",
    "\n",
    "Read [Usage of the Index Reader API](https://github.com/castorini/pyserini/blob/master/docs/usage-indexreader.md) notebook for more information on accessing and manipulating an inverted index."
   ]
  },
  {
   "cell_type": "code",
   "execution_count": 9,
   "metadata": {
    "id": "Pf0oDQfgp7l-"
   },
   "outputs": [],
   "source": [
    "from pyserini.index import IndexReader\n",
    "\n",
    "index_reader = IndexReader('Data/indexes/lucene-index-msmarco-passage')"
   ]
  },
  {
   "cell_type": "markdown",
   "metadata": {
    "id": "-bI2092DyZ94"
   },
   "source": [
    "Compute the collection and document frequencies of a term:"
   ]
  },
  {
   "cell_type": "code",
   "execution_count": 10,
   "metadata": {},
   "outputs": [
    {
     "name": "stdout",
     "output_type": "stream",
     "text": [
      "Analyzed form of term \"plai\": df=155044, cf=200696\n"
     ]
    }
   ],
   "source": [
    "term = 'played'\n",
    "\n",
    "# Look up its document frequency (df) and collection frequency (cf).\n",
    "# Note, we use the unanalyzed form:\n",
    "df, cf = index_reader.get_term_counts(term)\n",
    "\n",
    "analyzed_form = index_reader.analyze(term)\n",
    "print(f'Analyzed form of term \"{analyzed_form[0]}\": df={df}, cf={cf}')"
   ]
  },
  {
   "cell_type": "markdown",
   "metadata": {
    "id": "ZMwpOyMTulz2"
   },
   "source": [
    "Get basic index statistics of the index.\n",
    "\n",
    "Note that unless the underlying index was built with the `-optimize` option (i.e., merging all index segments into a single segment), unique_terms will show -1 (think what could be reason)."
   ]
  },
  {
   "cell_type": "code",
   "execution_count": 11,
   "metadata": {},
   "outputs": [
    {
     "data": {
      "text/plain": [
       "{'total_terms': 352316036,\n",
       " 'documents': 8841823,\n",
       " 'non_empty_documents': 8841823,\n",
       " 'unique_terms': -1}"
      ]
     },
     "execution_count": 11,
     "metadata": {},
     "output_type": "execute_result"
    }
   ],
   "source": [
    "index_reader.stats()"
   ]
  },
  {
   "cell_type": "markdown",
   "metadata": {},
   "source": [
    "## PART 2: Generate the index yourself"
   ]
  },
  {
   "cell_type": "markdown",
   "metadata": {},
   "source": [
    "### 2.1 Processing the text\n",
    "\n",
    "We need to process the text, which includes tokenization, stopword removal, and lowercasing."
   ]
  },
  {
   "cell_type": "code",
   "execution_count": 12,
   "metadata": {},
   "outputs": [],
   "source": [
    "STOPWORDS = ['a', 'an', 'and', 'are', 'as', 'at', 'be', 'but', 'by', 'for', 'if', 'in', 'into', 'is', 'it', 'no', 'not', 'of', 'on', 'or', 'such', 'that', 'the', 'their', 'then', 'there', 'these', 'they', 'this', 'to', 'was', 'will', 'with']\n",
    "\n",
    "def process(text):\n",
    "    terms = []\n",
    "    # Remove special characters\n",
    "    chars = ['\\'', '.', ':', ',', '!', '?', '(', ')']\n",
    "    for ch in chars:\n",
    "        if ch in text:\n",
    "            text = text.replace(ch, ' ')\n",
    "    \n",
    "    # Lowercasing and stopword removal\n",
    "    for term in text.split():\n",
    "        term = term.lower()\n",
    "        if term not in STOPWORDS:\n",
    "            terms.append(term)\n",
    "    return terms\n",
    "    "
   ]
  },
  {
   "cell_type": "markdown",
   "metadata": {},
   "source": [
    "### 2.2 Complete the code for Inverted Index\n",
    "\n",
    "Implement the InvertedIndex class. \n",
    "\n",
    "Write the index to a file, where posting list of each term is presented in a line with this format: `Term1 docID1:freq1 docID2:freq2 ...`, e.g., \n",
    "\n",
    "```\n",
    "term1 1:1 4:2 5:1\n",
    "term2 2:1 \n",
    "term3 1:3 3:3 9:2\n",
    "...\n",
    "```\n",
    "\n"
   ]
  },
  {
   "cell_type": "code",
   "execution_count": 13,
   "metadata": {
    "id": "QmSAgk2gQBdb"
   },
   "outputs": [],
   "source": [
    "import os\n",
    "\n",
    "class InvertedIndex(object):\n",
    "    def __init__(self):\n",
    "        self.index = {}\n",
    "\n",
    "    def add_posting(self, term:str, doc_id:int, count:int):\n",
    "        \"\"\"Adds a posting (term and Document ID) to the index.\"\"\"\n",
    "        # =======Your code=======\n",
    "        if self.get_posting(term) is None:\n",
    "            self.index[term] = list()\n",
    "\n",
    "        self.index[term].append([doc_id, count])\n",
    "        # =======================\n",
    "\n",
    "    def get_posting(self,term:str):\n",
    "        \"\"\"Returns the posting list of the term from the index.\"\"\"\n",
    "        # =======Your code=======\n",
    "        return self.index.get(term)\n",
    "        # =======================\n",
    "        \n",
    "    def get_dictionary(self):\n",
    "        \"\"\"Returns the dictionary of the index (unique terms in the index).\"\"\"\n",
    "        # =======Your code=======\n",
    "        return self.index.keys()\n",
    "        # =======================\n",
    "    \n",
    "    def write_to_file(self, filename_index:str):\n",
    "        \"\"\"Writes the index to a textfile.\"\"\"\n",
    "        # =======Your code=======\n",
    "        path_to_index = os.path.join(os.getcwd(), filename_index)\n",
    "        index_file = open(path_to_index, \"w\")\n",
    "        alphabetically_sorted_index = dict(sorted(self.index.items()))\n",
    "\n",
    "        for key, value in alphabetically_sorted_index.items():\n",
    "            index_file.write(f\"{key}\")\n",
    "\n",
    "            for doc_id, count in value:\n",
    "                index_file.write(f\" {doc_id}:{count}\")\n",
    "\n",
    "            index_file.write(\"\\n\")\n",
    "\n",
    "        index_file.close()\n",
    "        # ======================="
   ]
  },
  {
   "cell_type": "markdown",
   "metadata": {},
   "source": [
    "Run this to test your code. If everything is correct, you should not get errors here. "
   ]
  },
  {
   "cell_type": "code",
   "execution_count": 14,
   "metadata": {},
   "outputs": [],
   "source": [
    "index = InvertedIndex()\n",
    "index.add_posting(\"t1\", 1, 2)\n",
    "index.add_posting(\"t1\", 2, 1)\n",
    "index.add_posting(\"t2\", 2, 3)\n",
    "assert len(index.get_dictionary()) == 2\n",
    "assert len(index.get_posting(\"t1\")) == 2\n",
    "assert index.get_posting(\"t3\") == None\n",
    "index.write_to_file(\"Data/CollectionJsonl/text_index.txt\")"
   ]
  },
  {
   "cell_type": "markdown",
   "metadata": {},
   "source": [
    "### 2.3 Index part of the MS MARCO collection\n",
    "\n",
    "Complete the code to process the text and create the index. \n",
    "Note that we are only interested in indexing `docs00.json` file and it takes few minutes to create the index."
   ]
  },
  {
   "cell_type": "code",
   "execution_count": 15,
   "metadata": {},
   "outputs": [],
   "source": [
    "import collections\n",
    "import json\n",
    "\n",
    "ind = InvertedIndex()\n",
    "file = \"Data/CollectionJsonl/docs00.json\"\n",
    "index_file = \"Data/CollectionJsonl/tiny_index.txt\"\n",
    "\n",
    "def index(jsonl_file):\n",
    "    with open(jsonl_file, 'r') as f:\n",
    "        for line in f:\n",
    "            doc = json.loads(line)\n",
    "            # =======Your code=======\n",
    "            document_id, document_text = doc.values()\n",
    "            document_id = int(document_id)\n",
    "\n",
    "            cleaned_document_text = process(document_text)\n",
    "            cleaned_document_text_without_duplicate_terms = set(cleaned_document_text)\n",
    "\n",
    "            for term in cleaned_document_text_without_duplicate_terms:\n",
    "                term_count = cleaned_document_text.count(term)\n",
    "                ind.add_posting(term, document_id, term_count)\n",
    "            # =======================\n",
    "            \n",
    "index(file)\n",
    "ind.write_to_file(index_file)\n"
   ]
  },
  {
   "cell_type": "markdown",
   "metadata": {},
   "source": [
    "Run this to test your code. "
   ]
  },
  {
   "cell_type": "code",
   "execution_count": 16,
   "metadata": {},
   "outputs": [],
   "source": [
    "with open(index_file, 'r') as fp:\n",
    "    assert len(fp.readlines()) == 698784\n",
    "\n",
    "assert len(ind.get_posting(\"pressingly\")) == 3\n",
    "assert len(ind.get_posting(\"veada\")) == 2"
   ]
  },
  {
   "cell_type": "markdown",
   "metadata": {},
   "source": [
    "## Handing in\n",
    "\n",
    "Hand in both the result file and the filled-in notebook:\n",
    "\n",
    "- The result file should be named STUDENTNUMBER_FIRSTNAME_LASTNAME_tiny_index.txt\n",
    "- The notebook should be named STUDENTNUMBER_FIRSTNAME_LASTNAME_indexing.ipynb"
   ]
  },
  {
   "cell_type": "code",
   "execution_count": null,
   "metadata": {},
   "outputs": [],
   "source": []
  }
 ],
 "metadata": {
  "colab": {
   "collapsed_sections": [],
   "provenance": []
  },
  "kernelspec": {
   "display_name": "Python 3 (ipykernel)",
   "language": "python",
   "name": "python3"
  },
  "language_info": {
   "codemirror_mode": {
    "name": "ipython",
    "version": 3
   },
   "file_extension": ".py",
   "mimetype": "text/x-python",
   "name": "python",
   "nbconvert_exporter": "python",
   "pygments_lexer": "ipython3",
   "version": "3.10.12"
  },
  "vscode": {
   "interpreter": {
    "hash": "b333cffad54cf9f22a00fb4710e73f1d60aca41dd0187b9ad1417194137be373"
   }
  }
 },
 "nbformat": 4,
 "nbformat_minor": 4
}
